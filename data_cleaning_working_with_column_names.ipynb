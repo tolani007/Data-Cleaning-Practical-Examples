{
  "cells": [
    {
      "cell_type": "markdown",
      "metadata": {
        "id": "view-in-github",
        "colab_type": "text"
      },
      "source": [
        "<a href=\"https://colab.research.google.com/github/tolani007/Data-Cleaning-Practical-Examples/blob/master/data_cleaning_working_with_column_names.ipynb\" target=\"_parent\"><img src=\"https://colab.research.google.com/assets/colab-badge.svg\" alt=\"Open In Colab\"/></a>"
      ]
    },
    {
      "cell_type": "markdown",
      "metadata": {
        "id": "R3GQh9uiLWXT"
      },
      "source": [
        "### Data Cleaning Practical Examples\n",
        "#### Working With Columns Names\n",
        "\n",
        "+ Get Random Dataset here https://www.generatedata.com/\n",
        "\n",
        "#### Outline\n",
        "THIS IS AKINBOBOLA TOLANI AKINOLA PRACTICISING DATACLEANING ON MARCH 6TH, 2024 WITH A FORKED REPOSITORY SHOUTOUT TO THE ORIGINAL DEV MVP\n",
        "\n",
        "\n",
        "\n",
        "    + How to check columns\n",
        "    + How to rename columns\n",
        "    + How to put underscore in all columns\n",
        "    + How to replace a character or empty space in column names\n",
        "    + How to uppercase/lowercase columns\n",
        "    + How to select all columns except one\n",
        "    + How to select columns of a particular order or phrase(df.filter)\n",
        "    + How to select a group of column name"
      ]
    },
    {
      "cell_type": "code",
      "execution_count": null,
      "metadata": {
        "id": "NjLWhAjGLWXV"
      },
      "outputs": [],
      "source": [
        "# Load Dataset\n",
        "import pandas as pd"
      ]
    },
    {
      "cell_type": "code",
      "execution_count": null,
      "metadata": {
        "id": "ZnjnGbTfLWXW"
      },
      "outputs": [],
      "source": [
        "# Load Dataset\n",
        "df = pd.read_csv(\"raw_dataset.csv\")"
      ]
    },
    {
      "cell_type": "code",
      "execution_count": null,
      "metadata": {
        "colab": {
          "base_uri": "https://localhost:8080/",
          "height": 310
        },
        "id": "AOYQAja5LWXW",
        "outputId": "510ceaf6-51ec-4d8d-e0c6-5958e101f574"
      },
      "outputs": [
        {
          "output_type": "execute_result",
          "data": {
            "text/plain": [
              "  First Name Last name         Age  SALARY            STREET Address1  \\\n",
              "0       Joel   Padilla  10/28/2019  $92.32           431-6530 Eu, Rd.   \n",
              "1      Fritz     Tyler  09/27/2019  $83.91        Ap #377-2267 Ac Av.   \n",
              "2       Wing    Phelps  02/18/2019  $17.15  Ap #545-5786 Pulvinar Ave   \n",
              "3       Ryan      Ross  05/21/2019  $45.97           634-7858 Id Road   \n",
              "4      Drake       Day  01/09/2020  $84.38       999-8221 Tempor, St.   \n",
              "\n",
              "                STREET Address2                 STREET Address3  \\\n",
              "0            364-2264 Augue Rd.  P.O. Box 864, 3882 Orci Street   \n",
              "1              979-2228 Vel Ave                     9865 Eu Av.   \n",
              "2  Ap #973-5781 Sagittis Avenue                     9959 Ut St.   \n",
              "3        907-8824 Fringilla Ave                 318-5271 In Ave   \n",
              "4          297-6939 Turpis. Ave  P.O. Box 638, 6932 Laoreet Rd.   \n",
              "\n",
              "                                  email  \n",
              "0                           eu@nibh.com  \n",
              "1  est.ac.mattis@malesuadafringilla.net  \n",
              "2                     dolor@cubilia.net  \n",
              "3     interdum.libero.dui@vitaeerat.com  \n",
              "4   nulla.Integer.vulputate@liberoat.ca  "
            ],
            "text/html": [
              "\n",
              "  <div id=\"df-74470ed6-c632-45ba-9b72-0c5b1ede4290\" class=\"colab-df-container\">\n",
              "    <div>\n",
              "<style scoped>\n",
              "    .dataframe tbody tr th:only-of-type {\n",
              "        vertical-align: middle;\n",
              "    }\n",
              "\n",
              "    .dataframe tbody tr th {\n",
              "        vertical-align: top;\n",
              "    }\n",
              "\n",
              "    .dataframe thead th {\n",
              "        text-align: right;\n",
              "    }\n",
              "</style>\n",
              "<table border=\"1\" class=\"dataframe\">\n",
              "  <thead>\n",
              "    <tr style=\"text-align: right;\">\n",
              "      <th></th>\n",
              "      <th>First Name</th>\n",
              "      <th>Last name</th>\n",
              "      <th>Age</th>\n",
              "      <th>SALARY</th>\n",
              "      <th>STREET Address1</th>\n",
              "      <th>STREET Address2</th>\n",
              "      <th>STREET Address3</th>\n",
              "      <th>email</th>\n",
              "    </tr>\n",
              "  </thead>\n",
              "  <tbody>\n",
              "    <tr>\n",
              "      <th>0</th>\n",
              "      <td>Joel</td>\n",
              "      <td>Padilla</td>\n",
              "      <td>10/28/2019</td>\n",
              "      <td>$92.32</td>\n",
              "      <td>431-6530 Eu, Rd.</td>\n",
              "      <td>364-2264 Augue Rd.</td>\n",
              "      <td>P.O. Box 864, 3882 Orci Street</td>\n",
              "      <td>eu@nibh.com</td>\n",
              "    </tr>\n",
              "    <tr>\n",
              "      <th>1</th>\n",
              "      <td>Fritz</td>\n",
              "      <td>Tyler</td>\n",
              "      <td>09/27/2019</td>\n",
              "      <td>$83.91</td>\n",
              "      <td>Ap #377-2267 Ac Av.</td>\n",
              "      <td>979-2228 Vel Ave</td>\n",
              "      <td>9865 Eu Av.</td>\n",
              "      <td>est.ac.mattis@malesuadafringilla.net</td>\n",
              "    </tr>\n",
              "    <tr>\n",
              "      <th>2</th>\n",
              "      <td>Wing</td>\n",
              "      <td>Phelps</td>\n",
              "      <td>02/18/2019</td>\n",
              "      <td>$17.15</td>\n",
              "      <td>Ap #545-5786 Pulvinar Ave</td>\n",
              "      <td>Ap #973-5781 Sagittis Avenue</td>\n",
              "      <td>9959 Ut St.</td>\n",
              "      <td>dolor@cubilia.net</td>\n",
              "    </tr>\n",
              "    <tr>\n",
              "      <th>3</th>\n",
              "      <td>Ryan</td>\n",
              "      <td>Ross</td>\n",
              "      <td>05/21/2019</td>\n",
              "      <td>$45.97</td>\n",
              "      <td>634-7858 Id Road</td>\n",
              "      <td>907-8824 Fringilla Ave</td>\n",
              "      <td>318-5271 In Ave</td>\n",
              "      <td>interdum.libero.dui@vitaeerat.com</td>\n",
              "    </tr>\n",
              "    <tr>\n",
              "      <th>4</th>\n",
              "      <td>Drake</td>\n",
              "      <td>Day</td>\n",
              "      <td>01/09/2020</td>\n",
              "      <td>$84.38</td>\n",
              "      <td>999-8221 Tempor, St.</td>\n",
              "      <td>297-6939 Turpis. Ave</td>\n",
              "      <td>P.O. Box 638, 6932 Laoreet Rd.</td>\n",
              "      <td>nulla.Integer.vulputate@liberoat.ca</td>\n",
              "    </tr>\n",
              "  </tbody>\n",
              "</table>\n",
              "</div>\n",
              "    <div class=\"colab-df-buttons\">\n",
              "\n",
              "  <div class=\"colab-df-container\">\n",
              "    <button class=\"colab-df-convert\" onclick=\"convertToInteractive('df-74470ed6-c632-45ba-9b72-0c5b1ede4290')\"\n",
              "            title=\"Convert this dataframe to an interactive table.\"\n",
              "            style=\"display:none;\">\n",
              "\n",
              "  <svg xmlns=\"http://www.w3.org/2000/svg\" height=\"24px\" viewBox=\"0 -960 960 960\">\n",
              "    <path d=\"M120-120v-720h720v720H120Zm60-500h600v-160H180v160Zm220 220h160v-160H400v160Zm0 220h160v-160H400v160ZM180-400h160v-160H180v160Zm440 0h160v-160H620v160ZM180-180h160v-160H180v160Zm440 0h160v-160H620v160Z\"/>\n",
              "  </svg>\n",
              "    </button>\n",
              "\n",
              "  <style>\n",
              "    .colab-df-container {\n",
              "      display:flex;\n",
              "      gap: 12px;\n",
              "    }\n",
              "\n",
              "    .colab-df-convert {\n",
              "      background-color: #E8F0FE;\n",
              "      border: none;\n",
              "      border-radius: 50%;\n",
              "      cursor: pointer;\n",
              "      display: none;\n",
              "      fill: #1967D2;\n",
              "      height: 32px;\n",
              "      padding: 0 0 0 0;\n",
              "      width: 32px;\n",
              "    }\n",
              "\n",
              "    .colab-df-convert:hover {\n",
              "      background-color: #E2EBFA;\n",
              "      box-shadow: 0px 1px 2px rgba(60, 64, 67, 0.3), 0px 1px 3px 1px rgba(60, 64, 67, 0.15);\n",
              "      fill: #174EA6;\n",
              "    }\n",
              "\n",
              "    .colab-df-buttons div {\n",
              "      margin-bottom: 4px;\n",
              "    }\n",
              "\n",
              "    [theme=dark] .colab-df-convert {\n",
              "      background-color: #3B4455;\n",
              "      fill: #D2E3FC;\n",
              "    }\n",
              "\n",
              "    [theme=dark] .colab-df-convert:hover {\n",
              "      background-color: #434B5C;\n",
              "      box-shadow: 0px 1px 3px 1px rgba(0, 0, 0, 0.15);\n",
              "      filter: drop-shadow(0px 1px 2px rgba(0, 0, 0, 0.3));\n",
              "      fill: #FFFFFF;\n",
              "    }\n",
              "  </style>\n",
              "\n",
              "    <script>\n",
              "      const buttonEl =\n",
              "        document.querySelector('#df-74470ed6-c632-45ba-9b72-0c5b1ede4290 button.colab-df-convert');\n",
              "      buttonEl.style.display =\n",
              "        google.colab.kernel.accessAllowed ? 'block' : 'none';\n",
              "\n",
              "      async function convertToInteractive(key) {\n",
              "        const element = document.querySelector('#df-74470ed6-c632-45ba-9b72-0c5b1ede4290');\n",
              "        const dataTable =\n",
              "          await google.colab.kernel.invokeFunction('convertToInteractive',\n",
              "                                                    [key], {});\n",
              "        if (!dataTable) return;\n",
              "\n",
              "        const docLinkHtml = 'Like what you see? Visit the ' +\n",
              "          '<a target=\"_blank\" href=https://colab.research.google.com/notebooks/data_table.ipynb>data table notebook</a>'\n",
              "          + ' to learn more about interactive tables.';\n",
              "        element.innerHTML = '';\n",
              "        dataTable['output_type'] = 'display_data';\n",
              "        await google.colab.output.renderOutput(dataTable, element);\n",
              "        const docLink = document.createElement('div');\n",
              "        docLink.innerHTML = docLinkHtml;\n",
              "        element.appendChild(docLink);\n",
              "      }\n",
              "    </script>\n",
              "  </div>\n",
              "\n",
              "\n",
              "<div id=\"df-b9782c6d-5e5c-413e-916c-93e9359e3ade\">\n",
              "  <button class=\"colab-df-quickchart\" onclick=\"quickchart('df-b9782c6d-5e5c-413e-916c-93e9359e3ade')\"\n",
              "            title=\"Suggest charts\"\n",
              "            style=\"display:none;\">\n",
              "\n",
              "<svg xmlns=\"http://www.w3.org/2000/svg\" height=\"24px\"viewBox=\"0 0 24 24\"\n",
              "     width=\"24px\">\n",
              "    <g>\n",
              "        <path d=\"M19 3H5c-1.1 0-2 .9-2 2v14c0 1.1.9 2 2 2h14c1.1 0 2-.9 2-2V5c0-1.1-.9-2-2-2zM9 17H7v-7h2v7zm4 0h-2V7h2v10zm4 0h-2v-4h2v4z\"/>\n",
              "    </g>\n",
              "</svg>\n",
              "  </button>\n",
              "\n",
              "<style>\n",
              "  .colab-df-quickchart {\n",
              "      --bg-color: #E8F0FE;\n",
              "      --fill-color: #1967D2;\n",
              "      --hover-bg-color: #E2EBFA;\n",
              "      --hover-fill-color: #174EA6;\n",
              "      --disabled-fill-color: #AAA;\n",
              "      --disabled-bg-color: #DDD;\n",
              "  }\n",
              "\n",
              "  [theme=dark] .colab-df-quickchart {\n",
              "      --bg-color: #3B4455;\n",
              "      --fill-color: #D2E3FC;\n",
              "      --hover-bg-color: #434B5C;\n",
              "      --hover-fill-color: #FFFFFF;\n",
              "      --disabled-bg-color: #3B4455;\n",
              "      --disabled-fill-color: #666;\n",
              "  }\n",
              "\n",
              "  .colab-df-quickchart {\n",
              "    background-color: var(--bg-color);\n",
              "    border: none;\n",
              "    border-radius: 50%;\n",
              "    cursor: pointer;\n",
              "    display: none;\n",
              "    fill: var(--fill-color);\n",
              "    height: 32px;\n",
              "    padding: 0;\n",
              "    width: 32px;\n",
              "  }\n",
              "\n",
              "  .colab-df-quickchart:hover {\n",
              "    background-color: var(--hover-bg-color);\n",
              "    box-shadow: 0 1px 2px rgba(60, 64, 67, 0.3), 0 1px 3px 1px rgba(60, 64, 67, 0.15);\n",
              "    fill: var(--button-hover-fill-color);\n",
              "  }\n",
              "\n",
              "  .colab-df-quickchart-complete:disabled,\n",
              "  .colab-df-quickchart-complete:disabled:hover {\n",
              "    background-color: var(--disabled-bg-color);\n",
              "    fill: var(--disabled-fill-color);\n",
              "    box-shadow: none;\n",
              "  }\n",
              "\n",
              "  .colab-df-spinner {\n",
              "    border: 2px solid var(--fill-color);\n",
              "    border-color: transparent;\n",
              "    border-bottom-color: var(--fill-color);\n",
              "    animation:\n",
              "      spin 1s steps(1) infinite;\n",
              "  }\n",
              "\n",
              "  @keyframes spin {\n",
              "    0% {\n",
              "      border-color: transparent;\n",
              "      border-bottom-color: var(--fill-color);\n",
              "      border-left-color: var(--fill-color);\n",
              "    }\n",
              "    20% {\n",
              "      border-color: transparent;\n",
              "      border-left-color: var(--fill-color);\n",
              "      border-top-color: var(--fill-color);\n",
              "    }\n",
              "    30% {\n",
              "      border-color: transparent;\n",
              "      border-left-color: var(--fill-color);\n",
              "      border-top-color: var(--fill-color);\n",
              "      border-right-color: var(--fill-color);\n",
              "    }\n",
              "    40% {\n",
              "      border-color: transparent;\n",
              "      border-right-color: var(--fill-color);\n",
              "      border-top-color: var(--fill-color);\n",
              "    }\n",
              "    60% {\n",
              "      border-color: transparent;\n",
              "      border-right-color: var(--fill-color);\n",
              "    }\n",
              "    80% {\n",
              "      border-color: transparent;\n",
              "      border-right-color: var(--fill-color);\n",
              "      border-bottom-color: var(--fill-color);\n",
              "    }\n",
              "    90% {\n",
              "      border-color: transparent;\n",
              "      border-bottom-color: var(--fill-color);\n",
              "    }\n",
              "  }\n",
              "</style>\n",
              "\n",
              "  <script>\n",
              "    async function quickchart(key) {\n",
              "      const quickchartButtonEl =\n",
              "        document.querySelector('#' + key + ' button');\n",
              "      quickchartButtonEl.disabled = true;  // To prevent multiple clicks.\n",
              "      quickchartButtonEl.classList.add('colab-df-spinner');\n",
              "      try {\n",
              "        const charts = await google.colab.kernel.invokeFunction(\n",
              "            'suggestCharts', [key], {});\n",
              "      } catch (error) {\n",
              "        console.error('Error during call to suggestCharts:', error);\n",
              "      }\n",
              "      quickchartButtonEl.classList.remove('colab-df-spinner');\n",
              "      quickchartButtonEl.classList.add('colab-df-quickchart-complete');\n",
              "    }\n",
              "    (() => {\n",
              "      let quickchartButtonEl =\n",
              "        document.querySelector('#df-b9782c6d-5e5c-413e-916c-93e9359e3ade button');\n",
              "      quickchartButtonEl.style.display =\n",
              "        google.colab.kernel.accessAllowed ? 'block' : 'none';\n",
              "    })();\n",
              "  </script>\n",
              "</div>\n",
              "\n",
              "    </div>\n",
              "  </div>\n"
            ],
            "application/vnd.google.colaboratory.intrinsic+json": {
              "type": "dataframe",
              "variable_name": "df",
              "summary": "{\n  \"name\": \"df\",\n  \"rows\": 100,\n  \"fields\": [\n    {\n      \"column\": \"First Name\",\n      \"properties\": {\n        \"dtype\": \"string\",\n        \"num_unique_values\": 91,\n        \"samples\": [\n          \"Arthur\",\n          \"Todd\",\n          \"Melvin\"\n        ],\n        \"semantic_type\": \"\",\n        \"description\": \"\"\n      }\n    },\n    {\n      \"column\": \"Last name\",\n      \"properties\": {\n        \"dtype\": \"string\",\n        \"num_unique_values\": 97,\n        \"samples\": [\n          \"Fischer\",\n          \"Delgado\",\n          \"Hobbs\"\n        ],\n        \"semantic_type\": \"\",\n        \"description\": \"\"\n      }\n    },\n    {\n      \"column\": \"Age\",\n      \"properties\": {\n        \"dtype\": \"object\",\n        \"num_unique_values\": 91,\n        \"samples\": [\n          \"10/20/2018\",\n          \"06/26/2020\",\n          \"09/18/2019\"\n        ],\n        \"semantic_type\": \"\",\n        \"description\": \"\"\n      }\n    },\n    {\n      \"column\": \"SALARY\",\n      \"properties\": {\n        \"dtype\": \"string\",\n        \"num_unique_values\": 100,\n        \"samples\": [\n          \"$30.38\",\n          \"$9.06\",\n          \"$43.03\"\n        ],\n        \"semantic_type\": \"\",\n        \"description\": \"\"\n      }\n    },\n    {\n      \"column\": \"STREET Address1\",\n      \"properties\": {\n        \"dtype\": \"string\",\n        \"num_unique_values\": 100,\n        \"samples\": [\n          \"284-2591 Non Avenue\",\n          \"P.O. Box 611, 6063 Molestie Ave\",\n          \"428-8034 Orci St.\"\n        ],\n        \"semantic_type\": \"\",\n        \"description\": \"\"\n      }\n    },\n    {\n      \"column\": \"STREET Address2\",\n      \"properties\": {\n        \"dtype\": \"string\",\n        \"num_unique_values\": 100,\n        \"samples\": [\n          \"5189 Nulla Street\",\n          \"Ap #331-4458 Vulputate St.\",\n          \"8708 Donec Rd.\"\n        ],\n        \"semantic_type\": \"\",\n        \"description\": \"\"\n      }\n    },\n    {\n      \"column\": \"STREET Address3\",\n      \"properties\": {\n        \"dtype\": \"string\",\n        \"num_unique_values\": 100,\n        \"samples\": [\n          \"4878 Tempus Road\",\n          \"P.O. Box 512, 5869 Ligula. Rd.\",\n          \"415 Neque Rd.\"\n        ],\n        \"semantic_type\": \"\",\n        \"description\": \"\"\n      }\n    },\n    {\n      \"column\": \"email\",\n      \"properties\": {\n        \"dtype\": \"string\",\n        \"num_unique_values\": 100,\n        \"samples\": [\n          \"sollicitudin.orci@liberodui.net\",\n          \"facilisis@turpisnon.org\",\n          \"blandit.Nam@Sed.net\"\n        ],\n        \"semantic_type\": \"\",\n        \"description\": \"\"\n      }\n    }\n  ]\n}"
            }
          },
          "metadata": {},
          "execution_count": 4
        }
      ],
      "source": [
        "# Firt Rows\n",
        "df.head()"
      ]
    },
    {
      "cell_type": "code",
      "execution_count": null,
      "metadata": {
        "colab": {
          "base_uri": "https://localhost:8080/"
        },
        "id": "y3jTMER4LWXX",
        "outputId": "8f63f094-51d5-4ae3-ae83-c7d33d173286"
      },
      "outputs": [
        {
          "output_type": "execute_result",
          "data": {
            "text/plain": [
              "Index(['First Name', 'Last name', 'Age', 'SALARY', 'STREET Address1',\n",
              "       'STREET Address2', 'STREET Address3', 'email'],\n",
              "      dtype='object')"
            ]
          },
          "metadata": {},
          "execution_count": 11
        }
      ],
      "source": [
        "# Columns\n",
        "df.columns"
      ]
    },
    {
      "cell_type": "code",
      "execution_count": null,
      "metadata": {
        "colab": {
          "base_uri": "https://localhost:8080/"
        },
        "id": "recxtwhQLWXX",
        "outputId": "3b7bb5eb-e32b-4045-e5e5-0cddaf5302f5"
      },
      "outputs": [
        {
          "output_type": "execute_result",
          "data": {
            "text/plain": [
              "['T',\n",
              " '__abs__',\n",
              " '__add__',\n",
              " '__and__',\n",
              " '__annotations__',\n",
              " '__array__',\n",
              " '__array_priority__',\n",
              " '__array_ufunc__',\n",
              " '__array_wrap__',\n",
              " '__bool__',\n",
              " '__class__',\n",
              " '__contains__',\n",
              " '__copy__',\n",
              " '__deepcopy__',\n",
              " '__delattr__',\n",
              " '__dict__',\n",
              " '__dir__',\n",
              " '__divmod__',\n",
              " '__doc__',\n",
              " '__eq__',\n",
              " '__floordiv__',\n",
              " '__format__',\n",
              " '__ge__',\n",
              " '__getattribute__',\n",
              " '__getitem__',\n",
              " '__getstate__',\n",
              " '__gt__',\n",
              " '__hash__',\n",
              " '__iadd__',\n",
              " '__init__',\n",
              " '__init_subclass__',\n",
              " '__invert__',\n",
              " '__iter__',\n",
              " '__le__',\n",
              " '__len__',\n",
              " '__lt__',\n",
              " '__mod__',\n",
              " '__module__',\n",
              " '__mul__',\n",
              " '__ne__',\n",
              " '__neg__',\n",
              " '__new__',\n",
              " '__nonzero__',\n",
              " '__or__',\n",
              " '__pandas_priority__',\n",
              " '__pos__',\n",
              " '__pow__',\n",
              " '__radd__',\n",
              " '__rand__',\n",
              " '__rdivmod__',\n",
              " '__reduce__',\n",
              " '__reduce_ex__',\n",
              " '__repr__',\n",
              " '__rfloordiv__',\n",
              " '__rmod__',\n",
              " '__rmul__',\n",
              " '__ror__',\n",
              " '__rpow__',\n",
              " '__rsub__',\n",
              " '__rtruediv__',\n",
              " '__rxor__',\n",
              " '__setattr__',\n",
              " '__setitem__',\n",
              " '__sizeof__',\n",
              " '__str__',\n",
              " '__sub__',\n",
              " '__subclasshook__',\n",
              " '__truediv__',\n",
              " '__weakref__',\n",
              " '__xor__',\n",
              " '_accessors',\n",
              " '_arith_method',\n",
              " '_assert_can_do_setop',\n",
              " '_attributes',\n",
              " '_cache',\n",
              " '_can_hold_identifiers_and_holds_name',\n",
              " '_can_hold_na',\n",
              " '_can_hold_strings',\n",
              " '_can_use_libjoin',\n",
              " '_check_indexing_error',\n",
              " '_check_indexing_method',\n",
              " '_cleanup',\n",
              " '_cmp_method',\n",
              " '_comparables',\n",
              " '_concat',\n",
              " '_construct_result',\n",
              " '_constructor',\n",
              " '_convert_can_do_setop',\n",
              " '_convert_slice_indexer',\n",
              " '_convert_tolerance',\n",
              " '_data',\n",
              " '_data_cls',\n",
              " '_default_na_rep',\n",
              " '_difference',\n",
              " '_difference_compat',\n",
              " '_dir_additions',\n",
              " '_dir_additions_for_owner',\n",
              " '_dir_deletions',\n",
              " '_drop_level_numbers',\n",
              " '_dti_setop_align_tzs',\n",
              " '_dtype_to_subclass',\n",
              " '_duplicated',\n",
              " '_engine',\n",
              " '_engine_type',\n",
              " '_engine_types',\n",
              " '_ensure_array',\n",
              " '_filter_indexer_tolerance',\n",
              " '_find_common_type_compat',\n",
              " '_format_attrs',\n",
              " '_format_data',\n",
              " '_format_duplicate_message',\n",
              " '_format_flat',\n",
              " '_format_with_header',\n",
              " '_formatter_func',\n",
              " '_from_join_target',\n",
              " '_get_default_index_names',\n",
              " '_get_engine_target',\n",
              " '_get_fill_indexer',\n",
              " '_get_fill_indexer_searchsorted',\n",
              " '_get_indexer',\n",
              " '_get_indexer_non_comparable',\n",
              " '_get_indexer_strict',\n",
              " '_get_join_target',\n",
              " '_get_level_names',\n",
              " '_get_level_number',\n",
              " '_get_level_values',\n",
              " '_get_names',\n",
              " '_get_nearest_indexer',\n",
              " '_get_reconciled_name_object',\n",
              " '_get_string_slice',\n",
              " '_get_values_for_csv',\n",
              " '_getitem_slice',\n",
              " '_hidden_attrs',\n",
              " '_holds_integer',\n",
              " '_id',\n",
              " '_index_as_unique',\n",
              " '_inner_indexer',\n",
              " '_intersection',\n",
              " '_intersection_via_get_indexer',\n",
              " '_is_all_dates',\n",
              " '_is_comparable_dtype',\n",
              " '_is_memory_usage_qualified',\n",
              " '_is_multi',\n",
              " '_is_strictly_monotonic_decreasing',\n",
              " '_is_strictly_monotonic_increasing',\n",
              " '_isnan',\n",
              " '_join_empty',\n",
              " '_join_level',\n",
              " '_join_monotonic',\n",
              " '_join_multi',\n",
              " '_join_non_unique',\n",
              " '_join_via_get_indexer',\n",
              " '_left_indexer',\n",
              " '_left_indexer_unique',\n",
              " '_logical_method',\n",
              " '_map_values',\n",
              " '_maybe_cast_indexer',\n",
              " '_maybe_cast_listlike_indexer',\n",
              " '_maybe_cast_slice_bound',\n",
              " '_maybe_check_unique',\n",
              " '_maybe_disable_logical_methods',\n",
              " '_maybe_disallow_fill',\n",
              " '_maybe_downcast_for_indexing',\n",
              " '_maybe_preserve_names',\n",
              " '_memory_usage',\n",
              " '_mpl_repr',\n",
              " '_na_value',\n",
              " '_name',\n",
              " '_no_setting_name',\n",
              " '_outer_indexer',\n",
              " '_raise_if_missing',\n",
              " '_raise_invalid_indexer',\n",
              " '_raise_scalar_data_error',\n",
              " '_references',\n",
              " '_reindex_non_unique',\n",
              " '_rename',\n",
              " '_requires_unique_msg',\n",
              " '_reset_cache',\n",
              " '_reset_identity',\n",
              " '_searchsorted_monotonic',\n",
              " '_set_names',\n",
              " '_shallow_copy',\n",
              " '_should_compare',\n",
              " '_should_fallback_to_positional',\n",
              " '_should_partial_index',\n",
              " '_simple_new',\n",
              " '_sort_levels_monotonic',\n",
              " '_summary',\n",
              " '_supports_partial_string_indexing',\n",
              " '_transform_index',\n",
              " '_typ',\n",
              " '_unary_method',\n",
              " '_union',\n",
              " '_validate_can_reindex',\n",
              " '_validate_fill_value',\n",
              " '_validate_index_level',\n",
              " '_validate_indexer',\n",
              " '_validate_names',\n",
              " '_validate_positional_slice',\n",
              " '_validate_sort_keyword',\n",
              " '_values',\n",
              " '_view',\n",
              " '_with_infer',\n",
              " '_wrap_difference_result',\n",
              " '_wrap_intersection_result',\n",
              " '_wrap_joined_index',\n",
              " '_wrap_reindex_result',\n",
              " '_wrap_setop_result',\n",
              " 'all',\n",
              " 'any',\n",
              " 'append',\n",
              " 'argmax',\n",
              " 'argmin',\n",
              " 'argsort',\n",
              " 'array',\n",
              " 'asof',\n",
              " 'asof_locs',\n",
              " 'astype',\n",
              " 'copy',\n",
              " 'delete',\n",
              " 'diff',\n",
              " 'difference',\n",
              " 'drop',\n",
              " 'drop_duplicates',\n",
              " 'droplevel',\n",
              " 'dropna',\n",
              " 'dtype',\n",
              " 'duplicated',\n",
              " 'empty',\n",
              " 'equals',\n",
              " 'factorize',\n",
              " 'fillna',\n",
              " 'format',\n",
              " 'get_indexer',\n",
              " 'get_indexer_for',\n",
              " 'get_indexer_non_unique',\n",
              " 'get_level_values',\n",
              " 'get_loc',\n",
              " 'get_slice_bound',\n",
              " 'groupby',\n",
              " 'has_duplicates',\n",
              " 'hasnans',\n",
              " 'holds_integer',\n",
              " 'identical',\n",
              " 'infer_objects',\n",
              " 'inferred_type',\n",
              " 'insert',\n",
              " 'intersection',\n",
              " 'is_',\n",
              " 'is_boolean',\n",
              " 'is_categorical',\n",
              " 'is_floating',\n",
              " 'is_integer',\n",
              " 'is_interval',\n",
              " 'is_monotonic_decreasing',\n",
              " 'is_monotonic_increasing',\n",
              " 'is_numeric',\n",
              " 'is_object',\n",
              " 'is_unique',\n",
              " 'isin',\n",
              " 'isna',\n",
              " 'isnull',\n",
              " 'item',\n",
              " 'join',\n",
              " 'map',\n",
              " 'max',\n",
              " 'memory_usage',\n",
              " 'min',\n",
              " 'name',\n",
              " 'names',\n",
              " 'nbytes',\n",
              " 'ndim',\n",
              " 'nlevels',\n",
              " 'notna',\n",
              " 'notnull',\n",
              " 'nunique',\n",
              " 'putmask',\n",
              " 'ravel',\n",
              " 'reindex',\n",
              " 'rename',\n",
              " 'repeat',\n",
              " 'round',\n",
              " 'searchsorted',\n",
              " 'set_names',\n",
              " 'shape',\n",
              " 'shift',\n",
              " 'size',\n",
              " 'slice_indexer',\n",
              " 'slice_locs',\n",
              " 'sort',\n",
              " 'sort_values',\n",
              " 'sortlevel',\n",
              " 'str',\n",
              " 'symmetric_difference',\n",
              " 'take',\n",
              " 'to_flat_index',\n",
              " 'to_frame',\n",
              " 'to_list',\n",
              " 'to_numpy',\n",
              " 'to_series',\n",
              " 'transpose',\n",
              " 'union',\n",
              " 'unique',\n",
              " 'value_counts',\n",
              " 'values',\n",
              " 'view',\n",
              " 'where']"
            ]
          },
          "metadata": {},
          "execution_count": 12
        }
      ],
      "source": [
        "## Features of Columns\n",
        "dir(df.columns)"
      ]
    },
    {
      "cell_type": "code",
      "execution_count": null,
      "metadata": {
        "colab": {
          "base_uri": "https://localhost:8080/"
        },
        "id": "dYi8fT9eLWXY",
        "outputId": "5696a547-0cb0-4301-d056-f36245a1ab6a"
      },
      "outputs": [
        {
          "output_type": "execute_result",
          "data": {
            "text/plain": [
              "array(['First Name', 'Last name', 'Age', 'SALARY', 'STREET Address1',\n",
              "       'STREET Address2', 'STREET Address3', 'email'], dtype=object)"
            ]
          },
          "metadata": {},
          "execution_count": 5
        }
      ],
      "source": [
        "### Get The Columns As an Array\n",
        "df.columns.values"
      ]
    },
    {
      "cell_type": "code",
      "execution_count": null,
      "metadata": {
        "id": "PLbuXR7iLWXZ",
        "outputId": "4fb8dcf8-6e68-479a-c722-d0b95fdd56c2"
      },
      "outputs": [
        {
          "data": {
            "text/plain": [
              "['First Name',\n",
              " 'Last name',\n",
              " 'Age',\n",
              " 'SALARY',\n",
              " 'STREET Address1',\n",
              " 'STREET Address2',\n",
              " 'STREET Address3',\n",
              " 'email']"
            ]
          },
          "execution_count": 7,
          "metadata": {},
          "output_type": "execute_result"
        }
      ],
      "source": [
        "### Get The Columns As  List\n",
        "df.columns.tolist()"
      ]
    },
    {
      "cell_type": "code",
      "execution_count": null,
      "metadata": {
        "colab": {
          "base_uri": "https://localhost:8080/"
        },
        "id": "ItaMvbW4LWXa",
        "outputId": "2895f8fb-4041-4622-f0ff-92d175e481f3"
      },
      "outputs": [
        {
          "output_type": "execute_result",
          "data": {
            "text/plain": [
              "Index(['First Name', 'Last name', 'Age', 'SALARY', 'STREET Address1',\n",
              "       'STREET Address2', 'STREET Address3', 'email'],\n",
              "      dtype='object')"
            ]
          },
          "metadata": {},
          "execution_count": 10
        }
      ],
      "source": [
        "### To View Columns Names\n",
        "df.columns.view()"
      ]
    },
    {
      "cell_type": "code",
      "execution_count": null,
      "metadata": {
        "colab": {
          "base_uri": "https://localhost:8080/",
          "height": 162
        },
        "id": "KzxNsAkTLWXb",
        "outputId": "07625199-4b52-4af9-c12c-5919bbdea524"
      },
      "outputs": [
        {
          "output_type": "error",
          "ename": "AttributeError",
          "evalue": "'Index' object has no attribute 'summary'",
          "traceback": [
            "\u001b[0;31m---------------------------------------------------------------------------\u001b[0m",
            "\u001b[0;31mAttributeError\u001b[0m                            Traceback (most recent call last)",
            "\u001b[0;32m<ipython-input-13-d9b9f7060be7>\u001b[0m in \u001b[0;36m<cell line: 0>\u001b[0;34m()\u001b[0m\n\u001b[1;32m      1\u001b[0m \u001b[0;31m### To View a Summary of the Column Names\u001b[0m\u001b[0;34m\u001b[0m\u001b[0;34m\u001b[0m\u001b[0m\n\u001b[0;32m----> 2\u001b[0;31m \u001b[0mdf\u001b[0m\u001b[0;34m.\u001b[0m\u001b[0mcolumns\u001b[0m\u001b[0;34m.\u001b[0m\u001b[0msummary\u001b[0m\u001b[0;34m(\u001b[0m\u001b[0;34m)\u001b[0m\u001b[0;34m\u001b[0m\u001b[0;34m\u001b[0m\u001b[0m\n\u001b[0m",
            "\u001b[0;31mAttributeError\u001b[0m: 'Index' object has no attribute 'summary'"
          ]
        }
      ],
      "source": [
        "### To View a Summary of the Column Names\n",
        "df.columns.summary()"
      ]
    },
    {
      "cell_type": "code",
      "execution_count": null,
      "metadata": {
        "id": "ezGWLVSGLWXc",
        "outputId": "e71625b2-b36b-408f-f430-6076057c40c4"
      },
      "outputs": [
        {
          "data": {
            "text/plain": [
              "First Name              First Name\n",
              "Last name                Last name\n",
              "Age                            Age\n",
              "SALARY                      SALARY\n",
              "STREET Address1    STREET Address1\n",
              "STREET Address2    STREET Address2\n",
              "STREET Address3    STREET Address3\n",
              "email                        email\n",
              "dtype: object"
            ]
          },
          "execution_count": 10,
          "metadata": {},
          "output_type": "execute_result"
        }
      ],
      "source": [
        "# Convert the Column Names To Series/ DataFrame\n",
        "df.columns.to_series()"
      ]
    },
    {
      "cell_type": "code",
      "execution_count": null,
      "metadata": {
        "colab": {
          "base_uri": "https://localhost:8080/",
          "height": 300
        },
        "id": "p7rScPv9LWXd",
        "outputId": "26c13639-3ad3-45b4-ad3c-ed617344c87b"
      },
      "outputs": [
        {
          "output_type": "execute_result",
          "data": {
            "text/plain": [
              "                               0\n",
              "First Name            First Name\n",
              "Last name              Last name\n",
              "Age                          Age\n",
              "SALARY                    SALARY\n",
              "STREET Address1  STREET Address1\n",
              "STREET Address2  STREET Address2\n",
              "STREET Address3  STREET Address3\n",
              "email                      email"
            ],
            "text/html": [
              "\n",
              "  <div id=\"df-3dc1f1bb-336a-4e05-9b4d-27932647ff40\" class=\"colab-df-container\">\n",
              "    <div>\n",
              "<style scoped>\n",
              "    .dataframe tbody tr th:only-of-type {\n",
              "        vertical-align: middle;\n",
              "    }\n",
              "\n",
              "    .dataframe tbody tr th {\n",
              "        vertical-align: top;\n",
              "    }\n",
              "\n",
              "    .dataframe thead th {\n",
              "        text-align: right;\n",
              "    }\n",
              "</style>\n",
              "<table border=\"1\" class=\"dataframe\">\n",
              "  <thead>\n",
              "    <tr style=\"text-align: right;\">\n",
              "      <th></th>\n",
              "      <th>0</th>\n",
              "    </tr>\n",
              "  </thead>\n",
              "  <tbody>\n",
              "    <tr>\n",
              "      <th>First Name</th>\n",
              "      <td>First Name</td>\n",
              "    </tr>\n",
              "    <tr>\n",
              "      <th>Last name</th>\n",
              "      <td>Last name</td>\n",
              "    </tr>\n",
              "    <tr>\n",
              "      <th>Age</th>\n",
              "      <td>Age</td>\n",
              "    </tr>\n",
              "    <tr>\n",
              "      <th>SALARY</th>\n",
              "      <td>SALARY</td>\n",
              "    </tr>\n",
              "    <tr>\n",
              "      <th>STREET Address1</th>\n",
              "      <td>STREET Address1</td>\n",
              "    </tr>\n",
              "    <tr>\n",
              "      <th>STREET Address2</th>\n",
              "      <td>STREET Address2</td>\n",
              "    </tr>\n",
              "    <tr>\n",
              "      <th>STREET Address3</th>\n",
              "      <td>STREET Address3</td>\n",
              "    </tr>\n",
              "    <tr>\n",
              "      <th>email</th>\n",
              "      <td>email</td>\n",
              "    </tr>\n",
              "  </tbody>\n",
              "</table>\n",
              "</div>\n",
              "    <div class=\"colab-df-buttons\">\n",
              "\n",
              "  <div class=\"colab-df-container\">\n",
              "    <button class=\"colab-df-convert\" onclick=\"convertToInteractive('df-3dc1f1bb-336a-4e05-9b4d-27932647ff40')\"\n",
              "            title=\"Convert this dataframe to an interactive table.\"\n",
              "            style=\"display:none;\">\n",
              "\n",
              "  <svg xmlns=\"http://www.w3.org/2000/svg\" height=\"24px\" viewBox=\"0 -960 960 960\">\n",
              "    <path d=\"M120-120v-720h720v720H120Zm60-500h600v-160H180v160Zm220 220h160v-160H400v160Zm0 220h160v-160H400v160ZM180-400h160v-160H180v160Zm440 0h160v-160H620v160ZM180-180h160v-160H180v160Zm440 0h160v-160H620v160Z\"/>\n",
              "  </svg>\n",
              "    </button>\n",
              "\n",
              "  <style>\n",
              "    .colab-df-container {\n",
              "      display:flex;\n",
              "      gap: 12px;\n",
              "    }\n",
              "\n",
              "    .colab-df-convert {\n",
              "      background-color: #E8F0FE;\n",
              "      border: none;\n",
              "      border-radius: 50%;\n",
              "      cursor: pointer;\n",
              "      display: none;\n",
              "      fill: #1967D2;\n",
              "      height: 32px;\n",
              "      padding: 0 0 0 0;\n",
              "      width: 32px;\n",
              "    }\n",
              "\n",
              "    .colab-df-convert:hover {\n",
              "      background-color: #E2EBFA;\n",
              "      box-shadow: 0px 1px 2px rgba(60, 64, 67, 0.3), 0px 1px 3px 1px rgba(60, 64, 67, 0.15);\n",
              "      fill: #174EA6;\n",
              "    }\n",
              "\n",
              "    .colab-df-buttons div {\n",
              "      margin-bottom: 4px;\n",
              "    }\n",
              "\n",
              "    [theme=dark] .colab-df-convert {\n",
              "      background-color: #3B4455;\n",
              "      fill: #D2E3FC;\n",
              "    }\n",
              "\n",
              "    [theme=dark] .colab-df-convert:hover {\n",
              "      background-color: #434B5C;\n",
              "      box-shadow: 0px 1px 3px 1px rgba(0, 0, 0, 0.15);\n",
              "      filter: drop-shadow(0px 1px 2px rgba(0, 0, 0, 0.3));\n",
              "      fill: #FFFFFF;\n",
              "    }\n",
              "  </style>\n",
              "\n",
              "    <script>\n",
              "      const buttonEl =\n",
              "        document.querySelector('#df-3dc1f1bb-336a-4e05-9b4d-27932647ff40 button.colab-df-convert');\n",
              "      buttonEl.style.display =\n",
              "        google.colab.kernel.accessAllowed ? 'block' : 'none';\n",
              "\n",
              "      async function convertToInteractive(key) {\n",
              "        const element = document.querySelector('#df-3dc1f1bb-336a-4e05-9b4d-27932647ff40');\n",
              "        const dataTable =\n",
              "          await google.colab.kernel.invokeFunction('convertToInteractive',\n",
              "                                                    [key], {});\n",
              "        if (!dataTable) return;\n",
              "\n",
              "        const docLinkHtml = 'Like what you see? Visit the ' +\n",
              "          '<a target=\"_blank\" href=https://colab.research.google.com/notebooks/data_table.ipynb>data table notebook</a>'\n",
              "          + ' to learn more about interactive tables.';\n",
              "        element.innerHTML = '';\n",
              "        dataTable['output_type'] = 'display_data';\n",
              "        await google.colab.output.renderOutput(dataTable, element);\n",
              "        const docLink = document.createElement('div');\n",
              "        docLink.innerHTML = docLinkHtml;\n",
              "        element.appendChild(docLink);\n",
              "      }\n",
              "    </script>\n",
              "  </div>\n",
              "\n",
              "\n",
              "<div id=\"df-a10d4074-20c1-4274-b7e1-781787fa8639\">\n",
              "  <button class=\"colab-df-quickchart\" onclick=\"quickchart('df-a10d4074-20c1-4274-b7e1-781787fa8639')\"\n",
              "            title=\"Suggest charts\"\n",
              "            style=\"display:none;\">\n",
              "\n",
              "<svg xmlns=\"http://www.w3.org/2000/svg\" height=\"24px\"viewBox=\"0 0 24 24\"\n",
              "     width=\"24px\">\n",
              "    <g>\n",
              "        <path d=\"M19 3H5c-1.1 0-2 .9-2 2v14c0 1.1.9 2 2 2h14c1.1 0 2-.9 2-2V5c0-1.1-.9-2-2-2zM9 17H7v-7h2v7zm4 0h-2V7h2v10zm4 0h-2v-4h2v4z\"/>\n",
              "    </g>\n",
              "</svg>\n",
              "  </button>\n",
              "\n",
              "<style>\n",
              "  .colab-df-quickchart {\n",
              "      --bg-color: #E8F0FE;\n",
              "      --fill-color: #1967D2;\n",
              "      --hover-bg-color: #E2EBFA;\n",
              "      --hover-fill-color: #174EA6;\n",
              "      --disabled-fill-color: #AAA;\n",
              "      --disabled-bg-color: #DDD;\n",
              "  }\n",
              "\n",
              "  [theme=dark] .colab-df-quickchart {\n",
              "      --bg-color: #3B4455;\n",
              "      --fill-color: #D2E3FC;\n",
              "      --hover-bg-color: #434B5C;\n",
              "      --hover-fill-color: #FFFFFF;\n",
              "      --disabled-bg-color: #3B4455;\n",
              "      --disabled-fill-color: #666;\n",
              "  }\n",
              "\n",
              "  .colab-df-quickchart {\n",
              "    background-color: var(--bg-color);\n",
              "    border: none;\n",
              "    border-radius: 50%;\n",
              "    cursor: pointer;\n",
              "    display: none;\n",
              "    fill: var(--fill-color);\n",
              "    height: 32px;\n",
              "    padding: 0;\n",
              "    width: 32px;\n",
              "  }\n",
              "\n",
              "  .colab-df-quickchart:hover {\n",
              "    background-color: var(--hover-bg-color);\n",
              "    box-shadow: 0 1px 2px rgba(60, 64, 67, 0.3), 0 1px 3px 1px rgba(60, 64, 67, 0.15);\n",
              "    fill: var(--button-hover-fill-color);\n",
              "  }\n",
              "\n",
              "  .colab-df-quickchart-complete:disabled,\n",
              "  .colab-df-quickchart-complete:disabled:hover {\n",
              "    background-color: var(--disabled-bg-color);\n",
              "    fill: var(--disabled-fill-color);\n",
              "    box-shadow: none;\n",
              "  }\n",
              "\n",
              "  .colab-df-spinner {\n",
              "    border: 2px solid var(--fill-color);\n",
              "    border-color: transparent;\n",
              "    border-bottom-color: var(--fill-color);\n",
              "    animation:\n",
              "      spin 1s steps(1) infinite;\n",
              "  }\n",
              "\n",
              "  @keyframes spin {\n",
              "    0% {\n",
              "      border-color: transparent;\n",
              "      border-bottom-color: var(--fill-color);\n",
              "      border-left-color: var(--fill-color);\n",
              "    }\n",
              "    20% {\n",
              "      border-color: transparent;\n",
              "      border-left-color: var(--fill-color);\n",
              "      border-top-color: var(--fill-color);\n",
              "    }\n",
              "    30% {\n",
              "      border-color: transparent;\n",
              "      border-left-color: var(--fill-color);\n",
              "      border-top-color: var(--fill-color);\n",
              "      border-right-color: var(--fill-color);\n",
              "    }\n",
              "    40% {\n",
              "      border-color: transparent;\n",
              "      border-right-color: var(--fill-color);\n",
              "      border-top-color: var(--fill-color);\n",
              "    }\n",
              "    60% {\n",
              "      border-color: transparent;\n",
              "      border-right-color: var(--fill-color);\n",
              "    }\n",
              "    80% {\n",
              "      border-color: transparent;\n",
              "      border-right-color: var(--fill-color);\n",
              "      border-bottom-color: var(--fill-color);\n",
              "    }\n",
              "    90% {\n",
              "      border-color: transparent;\n",
              "      border-bottom-color: var(--fill-color);\n",
              "    }\n",
              "  }\n",
              "</style>\n",
              "\n",
              "  <script>\n",
              "    async function quickchart(key) {\n",
              "      const quickchartButtonEl =\n",
              "        document.querySelector('#' + key + ' button');\n",
              "      quickchartButtonEl.disabled = true;  // To prevent multiple clicks.\n",
              "      quickchartButtonEl.classList.add('colab-df-spinner');\n",
              "      try {\n",
              "        const charts = await google.colab.kernel.invokeFunction(\n",
              "            'suggestCharts', [key], {});\n",
              "      } catch (error) {\n",
              "        console.error('Error during call to suggestCharts:', error);\n",
              "      }\n",
              "      quickchartButtonEl.classList.remove('colab-df-spinner');\n",
              "      quickchartButtonEl.classList.add('colab-df-quickchart-complete');\n",
              "    }\n",
              "    (() => {\n",
              "      let quickchartButtonEl =\n",
              "        document.querySelector('#df-a10d4074-20c1-4274-b7e1-781787fa8639 button');\n",
              "      quickchartButtonEl.style.display =\n",
              "        google.colab.kernel.accessAllowed ? 'block' : 'none';\n",
              "    })();\n",
              "  </script>\n",
              "</div>\n",
              "\n",
              "    </div>\n",
              "  </div>\n"
            ],
            "application/vnd.google.colaboratory.intrinsic+json": {
              "type": "dataframe",
              "summary": "{\n  \"name\": \"df\",\n  \"rows\": 8,\n  \"fields\": [\n    {\n      \"column\": 0,\n      \"properties\": {\n        \"dtype\": \"string\",\n        \"num_unique_values\": 8,\n        \"samples\": [\n          \"Last name\",\n          \"STREET Address2\",\n          \"First Name\"\n        ],\n        \"semantic_type\": \"\",\n        \"description\": \"\"\n      }\n    }\n  ]\n}"
            }
          },
          "metadata": {},
          "execution_count": 8
        }
      ],
      "source": [
        "# Convert the Column Names To DataFrame\n",
        "df.columns.to_frame()"
      ]
    },
    {
      "cell_type": "code",
      "execution_count": null,
      "metadata": {
        "colab": {
          "base_uri": "https://localhost:8080/"
        },
        "id": "6FbQeN9lLWXd",
        "outputId": "f6ccb142-ce75-44bd-cdc2-51b1a8ab0054"
      },
      "outputs": [
        {
          "output_type": "execute_result",
          "data": {
            "text/plain": [
              "Index(['First Name'], dtype='object')"
            ]
          },
          "metadata": {},
          "execution_count": 22
        }
      ],
      "source": [
        "# Check to see if column names contains a phrase\n",
        "\n",
        "df.columns[df.columns.str.contains(\"First Name\",   case = False)]\n",
        "\n"
      ]
    },
    {
      "cell_type": "code",
      "execution_count": null,
      "metadata": {
        "colab": {
          "base_uri": "https://localhost:8080/"
        },
        "id": "9pScFigsLWXd",
        "outputId": "ff327a72-e089-42f7-cd97-ff150de695ef"
      },
      "outputs": [
        {
          "output_type": "execute_result",
          "data": {
            "text/plain": [
              "array([False, False, False, False, False, False, False, False])"
            ]
          },
          "metadata": {},
          "execution_count": 24
        }
      ],
      "source": [
        "# Check to see if column names are duplicated\n",
        "df.columns.duplicated()\n"
      ]
    },
    {
      "cell_type": "code",
      "execution_count": null,
      "metadata": {
        "colab": {
          "base_uri": "https://localhost:8080/"
        },
        "id": "RYcADcNJLWXe",
        "outputId": "b1bde1e9-ad34-48c8-c2e8-96aab3347128"
      },
      "outputs": [
        {
          "output_type": "execute_result",
          "data": {
            "text/plain": [
              "['__annotations__',\n",
              " '__class__',\n",
              " '__delattr__',\n",
              " '__dict__',\n",
              " '__dir__',\n",
              " '__doc__',\n",
              " '__eq__',\n",
              " '__format__',\n",
              " '__frozen',\n",
              " '__ge__',\n",
              " '__getattribute__',\n",
              " '__getitem__',\n",
              " '__getstate__',\n",
              " '__gt__',\n",
              " '__hash__',\n",
              " '__init__',\n",
              " '__init_subclass__',\n",
              " '__iter__',\n",
              " '__le__',\n",
              " '__lt__',\n",
              " '__module__',\n",
              " '__ne__',\n",
              " '__new__',\n",
              " '__reduce__',\n",
              " '__reduce_ex__',\n",
              " '__repr__',\n",
              " '__setattr__',\n",
              " '__sizeof__',\n",
              " '__str__',\n",
              " '__subclasshook__',\n",
              " '__weakref__',\n",
              " '_data',\n",
              " '_doc_args',\n",
              " '_freeze',\n",
              " '_get_series_list',\n",
              " '_index',\n",
              " '_inferred_dtype',\n",
              " '_is_categorical',\n",
              " '_is_string',\n",
              " '_name',\n",
              " '_orig',\n",
              " '_parent',\n",
              " '_validate',\n",
              " '_wrap_result',\n",
              " 'capitalize',\n",
              " 'casefold',\n",
              " 'cat',\n",
              " 'center',\n",
              " 'contains',\n",
              " 'count',\n",
              " 'decode',\n",
              " 'encode',\n",
              " 'endswith',\n",
              " 'extract',\n",
              " 'extractall',\n",
              " 'find',\n",
              " 'findall',\n",
              " 'fullmatch',\n",
              " 'get',\n",
              " 'get_dummies',\n",
              " 'index',\n",
              " 'isalnum',\n",
              " 'isalpha',\n",
              " 'isdecimal',\n",
              " 'isdigit',\n",
              " 'islower',\n",
              " 'isnumeric',\n",
              " 'isspace',\n",
              " 'istitle',\n",
              " 'isupper',\n",
              " 'join',\n",
              " 'len',\n",
              " 'ljust',\n",
              " 'lower',\n",
              " 'lstrip',\n",
              " 'match',\n",
              " 'normalize',\n",
              " 'pad',\n",
              " 'partition',\n",
              " 'removeprefix',\n",
              " 'removesuffix',\n",
              " 'repeat',\n",
              " 'replace',\n",
              " 'rfind',\n",
              " 'rindex',\n",
              " 'rjust',\n",
              " 'rpartition',\n",
              " 'rsplit',\n",
              " 'rstrip',\n",
              " 'slice',\n",
              " 'slice_replace',\n",
              " 'split',\n",
              " 'startswith',\n",
              " 'strip',\n",
              " 'swapcase',\n",
              " 'title',\n",
              " 'translate',\n",
              " 'upper',\n",
              " 'wrap',\n",
              " 'zfill']"
            ]
          },
          "metadata": {},
          "execution_count": 25
        }
      ],
      "source": [
        "### Attributes and Methods of Str\n",
        "dir(df.columns.str)\n",
        "dir(df.columns.str)"
      ]
    },
    {
      "cell_type": "code",
      "execution_count": null,
      "metadata": {
        "colab": {
          "base_uri": "https://localhost:8080/"
        },
        "id": "lIQ0V6-gLWXe",
        "outputId": "da335054-d49b-4832-ca8b-f9a1bb6cc114"
      },
      "outputs": [
        {
          "output_type": "execute_result",
          "data": {
            "text/plain": [
              "Index(['first name', 'last name', 'age', 'salary', 'street address1',\n",
              "       'street address2', 'street address3', 'email'],\n",
              "      dtype='object')"
            ]
          },
          "metadata": {},
          "execution_count": 26
        }
      ],
      "source": [
        "### Making Column Name Lower Case\n",
        "df.columns.str.lower()\n",
        "df.columns.str.lower()"
      ]
    },
    {
      "cell_type": "code",
      "execution_count": null,
      "metadata": {
        "colab": {
          "base_uri": "https://localhost:8080/"
        },
        "id": "E_5cqu2fLWXe",
        "outputId": "4d234715-a285-4caf-d208-98195795dc1b"
      },
      "outputs": [
        {
          "output_type": "execute_result",
          "data": {
            "text/plain": [
              "Index(['FIRST NAME', 'LAST NAME', 'AGE', 'SALARY', 'STREET ADDRESS1',\n",
              "       'STREET ADDRESS2', 'STREET ADDRESS3', 'EMAIL'],\n",
              "      dtype='object')"
            ]
          },
          "metadata": {},
          "execution_count": 29
        }
      ],
      "source": [
        "### Making Column Name Upper Case\n",
        "df.columns.str.upper()\n",
        "df.columns.str.upper()"
      ]
    },
    {
      "cell_type": "code",
      "execution_count": null,
      "metadata": {
        "colab": {
          "base_uri": "https://localhost:8080/"
        },
        "id": "srjrWXKuLWXe",
        "outputId": "a0d0d6d8-ec51-48ba-d288-80358e839ea7"
      },
      "outputs": [
        {
          "output_type": "execute_result",
          "data": {
            "text/plain": [
              "Index(['First Name', 'Last Name', 'Age', 'Salary', 'Street Address1',\n",
              "       'Street Address2', 'Street Address3', 'Email'],\n",
              "      dtype='object')"
            ]
          },
          "metadata": {},
          "execution_count": 30
        }
      ],
      "source": [
        "### Making Column Name Title Case\n",
        "df.columns.str.title()\n",
        "df.columns.str.title()"
      ]
    },
    {
      "cell_type": "code",
      "execution_count": null,
      "metadata": {
        "colab": {
          "base_uri": "https://localhost:8080/"
        },
        "id": "V00MgZb2LWXf",
        "outputId": "be5614ea-5875-40be-ac37-ecbb07f07aed"
      },
      "outputs": [
        {
          "output_type": "execute_result",
          "data": {
            "text/plain": [
              "Index(['First_Name', 'Last_name', 'Age', 'SALARY', 'STREET_Address1',\n",
              "       'STREET_Address2', 'STREET_Address3', 'email'],\n",
              "      dtype='object')"
            ]
          },
          "metadata": {},
          "execution_count": 31
        }
      ],
      "source": [
        "### Replacing Empty spaces with underscore\n",
        "df.columns.str.replace(' ','_')\n",
        "df.columns.str.replace(' ', \"_\")"
      ]
    },
    {
      "cell_type": "code",
      "execution_count": null,
      "metadata": {
        "colab": {
          "base_uri": "https://localhost:8080/",
          "height": 632
        },
        "id": "_GbY6RZPLWXf",
        "outputId": "574a5bfa-1eb9-4eb7-bc40-6ad3d0513d9e"
      },
      "outputs": [
        {
          "output_type": "execute_result",
          "data": {
            "text/plain": [
              "   First Name Ancenstral Steeze Name         Age  SALARY  \\\n",
              "0        Joel                Padilla  10/28/2019  $92.32   \n",
              "1       Fritz                  Tyler  09/27/2019  $83.91   \n",
              "2        Wing                 Phelps  02/18/2019  $17.15   \n",
              "3        Ryan                   Ross  05/21/2019  $45.97   \n",
              "4       Drake                    Day  01/09/2020  $84.38   \n",
              "..        ...                    ...         ...     ...   \n",
              "95     Victor                  Hobbs  05/24/2019  $54.56   \n",
              "96       Neil               Bradford  02/07/2020  $74.52   \n",
              "97      Noble                 Conrad  10/29/2019  $43.99   \n",
              "98      Brody               Whitaker  08/09/2018  $96.24   \n",
              "99      Alden              Mccormick  07/27/2019   $2.66   \n",
              "\n",
              "              STREET Address1               STREET Address2  \\\n",
              "0            431-6530 Eu, Rd.            364-2264 Augue Rd.   \n",
              "1         Ap #377-2267 Ac Av.              979-2228 Vel Ave   \n",
              "2   Ap #545-5786 Pulvinar Ave  Ap #973-5781 Sagittis Avenue   \n",
              "3            634-7858 Id Road        907-8824 Fringilla Ave   \n",
              "4        999-8221 Tempor, St.          297-6939 Turpis. Ave   \n",
              "..                        ...                           ...   \n",
              "95             4034 Vitae St.     P.O. Box 930, 1683 Eu Rd.   \n",
              "96       1434 Aliquet, Street             956-6627 Nunc Av.   \n",
              "97     Ap #173-7049 Eget, St.        Ap #620-2512 Ut Street   \n",
              "98   Ap #371-9803 Aliquam Rd.           8892 Euismod Street   \n",
              "99   Ap #375-1139 Risus. Road              7259 Duis Avenue   \n",
              "\n",
              "                   STREET Address3                                 email  \n",
              "0   P.O. Box 864, 3882 Orci Street                           eu@nibh.com  \n",
              "1                      9865 Eu Av.  est.ac.mattis@malesuadafringilla.net  \n",
              "2                      9959 Ut St.                     dolor@cubilia.net  \n",
              "3                  318-5271 In Ave     interdum.libero.dui@vitaeerat.com  \n",
              "4   P.O. Box 638, 6932 Laoreet Rd.   nulla.Integer.vulputate@liberoat.ca  \n",
              "..                             ...                                   ...  \n",
              "95     P.O. Box 181, 3360 Mus. Rd.                 ipsum@dictumaugue.com  \n",
              "96        Ap #727-6109 Sapien. Av.       sapien.Nunc@euodioPhasellus.net  \n",
              "97                 8768 Aenean St.         tellus.Nunc.lectus@ornare.org  \n",
              "98      Ap #201-659 Libero. Street      non.dapibus.rutrum@eumetus.co.uk  \n",
              "99           955-4058 Maecenas St.                ut.erat@aceleifend.com  \n",
              "\n",
              "[100 rows x 8 columns]"
            ],
            "text/html": [
              "\n",
              "  <div id=\"df-237635e2-54b5-4cea-aa89-c8a0554b29f9\" class=\"colab-df-container\">\n",
              "    <div>\n",
              "<style scoped>\n",
              "    .dataframe tbody tr th:only-of-type {\n",
              "        vertical-align: middle;\n",
              "    }\n",
              "\n",
              "    .dataframe tbody tr th {\n",
              "        vertical-align: top;\n",
              "    }\n",
              "\n",
              "    .dataframe thead th {\n",
              "        text-align: right;\n",
              "    }\n",
              "</style>\n",
              "<table border=\"1\" class=\"dataframe\">\n",
              "  <thead>\n",
              "    <tr style=\"text-align: right;\">\n",
              "      <th></th>\n",
              "      <th>First Name</th>\n",
              "      <th>Ancenstral Steeze Name</th>\n",
              "      <th>Age</th>\n",
              "      <th>SALARY</th>\n",
              "      <th>STREET Address1</th>\n",
              "      <th>STREET Address2</th>\n",
              "      <th>STREET Address3</th>\n",
              "      <th>email</th>\n",
              "    </tr>\n",
              "  </thead>\n",
              "  <tbody>\n",
              "    <tr>\n",
              "      <th>0</th>\n",
              "      <td>Joel</td>\n",
              "      <td>Padilla</td>\n",
              "      <td>10/28/2019</td>\n",
              "      <td>$92.32</td>\n",
              "      <td>431-6530 Eu, Rd.</td>\n",
              "      <td>364-2264 Augue Rd.</td>\n",
              "      <td>P.O. Box 864, 3882 Orci Street</td>\n",
              "      <td>eu@nibh.com</td>\n",
              "    </tr>\n",
              "    <tr>\n",
              "      <th>1</th>\n",
              "      <td>Fritz</td>\n",
              "      <td>Tyler</td>\n",
              "      <td>09/27/2019</td>\n",
              "      <td>$83.91</td>\n",
              "      <td>Ap #377-2267 Ac Av.</td>\n",
              "      <td>979-2228 Vel Ave</td>\n",
              "      <td>9865 Eu Av.</td>\n",
              "      <td>est.ac.mattis@malesuadafringilla.net</td>\n",
              "    </tr>\n",
              "    <tr>\n",
              "      <th>2</th>\n",
              "      <td>Wing</td>\n",
              "      <td>Phelps</td>\n",
              "      <td>02/18/2019</td>\n",
              "      <td>$17.15</td>\n",
              "      <td>Ap #545-5786 Pulvinar Ave</td>\n",
              "      <td>Ap #973-5781 Sagittis Avenue</td>\n",
              "      <td>9959 Ut St.</td>\n",
              "      <td>dolor@cubilia.net</td>\n",
              "    </tr>\n",
              "    <tr>\n",
              "      <th>3</th>\n",
              "      <td>Ryan</td>\n",
              "      <td>Ross</td>\n",
              "      <td>05/21/2019</td>\n",
              "      <td>$45.97</td>\n",
              "      <td>634-7858 Id Road</td>\n",
              "      <td>907-8824 Fringilla Ave</td>\n",
              "      <td>318-5271 In Ave</td>\n",
              "      <td>interdum.libero.dui@vitaeerat.com</td>\n",
              "    </tr>\n",
              "    <tr>\n",
              "      <th>4</th>\n",
              "      <td>Drake</td>\n",
              "      <td>Day</td>\n",
              "      <td>01/09/2020</td>\n",
              "      <td>$84.38</td>\n",
              "      <td>999-8221 Tempor, St.</td>\n",
              "      <td>297-6939 Turpis. Ave</td>\n",
              "      <td>P.O. Box 638, 6932 Laoreet Rd.</td>\n",
              "      <td>nulla.Integer.vulputate@liberoat.ca</td>\n",
              "    </tr>\n",
              "    <tr>\n",
              "      <th>...</th>\n",
              "      <td>...</td>\n",
              "      <td>...</td>\n",
              "      <td>...</td>\n",
              "      <td>...</td>\n",
              "      <td>...</td>\n",
              "      <td>...</td>\n",
              "      <td>...</td>\n",
              "      <td>...</td>\n",
              "    </tr>\n",
              "    <tr>\n",
              "      <th>95</th>\n",
              "      <td>Victor</td>\n",
              "      <td>Hobbs</td>\n",
              "      <td>05/24/2019</td>\n",
              "      <td>$54.56</td>\n",
              "      <td>4034 Vitae St.</td>\n",
              "      <td>P.O. Box 930, 1683 Eu Rd.</td>\n",
              "      <td>P.O. Box 181, 3360 Mus. Rd.</td>\n",
              "      <td>ipsum@dictumaugue.com</td>\n",
              "    </tr>\n",
              "    <tr>\n",
              "      <th>96</th>\n",
              "      <td>Neil</td>\n",
              "      <td>Bradford</td>\n",
              "      <td>02/07/2020</td>\n",
              "      <td>$74.52</td>\n",
              "      <td>1434 Aliquet, Street</td>\n",
              "      <td>956-6627 Nunc Av.</td>\n",
              "      <td>Ap #727-6109 Sapien. Av.</td>\n",
              "      <td>sapien.Nunc@euodioPhasellus.net</td>\n",
              "    </tr>\n",
              "    <tr>\n",
              "      <th>97</th>\n",
              "      <td>Noble</td>\n",
              "      <td>Conrad</td>\n",
              "      <td>10/29/2019</td>\n",
              "      <td>$43.99</td>\n",
              "      <td>Ap #173-7049 Eget, St.</td>\n",
              "      <td>Ap #620-2512 Ut Street</td>\n",
              "      <td>8768 Aenean St.</td>\n",
              "      <td>tellus.Nunc.lectus@ornare.org</td>\n",
              "    </tr>\n",
              "    <tr>\n",
              "      <th>98</th>\n",
              "      <td>Brody</td>\n",
              "      <td>Whitaker</td>\n",
              "      <td>08/09/2018</td>\n",
              "      <td>$96.24</td>\n",
              "      <td>Ap #371-9803 Aliquam Rd.</td>\n",
              "      <td>8892 Euismod Street</td>\n",
              "      <td>Ap #201-659 Libero. Street</td>\n",
              "      <td>non.dapibus.rutrum@eumetus.co.uk</td>\n",
              "    </tr>\n",
              "    <tr>\n",
              "      <th>99</th>\n",
              "      <td>Alden</td>\n",
              "      <td>Mccormick</td>\n",
              "      <td>07/27/2019</td>\n",
              "      <td>$2.66</td>\n",
              "      <td>Ap #375-1139 Risus. Road</td>\n",
              "      <td>7259 Duis Avenue</td>\n",
              "      <td>955-4058 Maecenas St.</td>\n",
              "      <td>ut.erat@aceleifend.com</td>\n",
              "    </tr>\n",
              "  </tbody>\n",
              "</table>\n",
              "<p>100 rows × 8 columns</p>\n",
              "</div>\n",
              "    <div class=\"colab-df-buttons\">\n",
              "\n",
              "  <div class=\"colab-df-container\">\n",
              "    <button class=\"colab-df-convert\" onclick=\"convertToInteractive('df-237635e2-54b5-4cea-aa89-c8a0554b29f9')\"\n",
              "            title=\"Convert this dataframe to an interactive table.\"\n",
              "            style=\"display:none;\">\n",
              "\n",
              "  <svg xmlns=\"http://www.w3.org/2000/svg\" height=\"24px\" viewBox=\"0 -960 960 960\">\n",
              "    <path d=\"M120-120v-720h720v720H120Zm60-500h600v-160H180v160Zm220 220h160v-160H400v160Zm0 220h160v-160H400v160ZM180-400h160v-160H180v160Zm440 0h160v-160H620v160ZM180-180h160v-160H180v160Zm440 0h160v-160H620v160Z\"/>\n",
              "  </svg>\n",
              "    </button>\n",
              "\n",
              "  <style>\n",
              "    .colab-df-container {\n",
              "      display:flex;\n",
              "      gap: 12px;\n",
              "    }\n",
              "\n",
              "    .colab-df-convert {\n",
              "      background-color: #E8F0FE;\n",
              "      border: none;\n",
              "      border-radius: 50%;\n",
              "      cursor: pointer;\n",
              "      display: none;\n",
              "      fill: #1967D2;\n",
              "      height: 32px;\n",
              "      padding: 0 0 0 0;\n",
              "      width: 32px;\n",
              "    }\n",
              "\n",
              "    .colab-df-convert:hover {\n",
              "      background-color: #E2EBFA;\n",
              "      box-shadow: 0px 1px 2px rgba(60, 64, 67, 0.3), 0px 1px 3px 1px rgba(60, 64, 67, 0.15);\n",
              "      fill: #174EA6;\n",
              "    }\n",
              "\n",
              "    .colab-df-buttons div {\n",
              "      margin-bottom: 4px;\n",
              "    }\n",
              "\n",
              "    [theme=dark] .colab-df-convert {\n",
              "      background-color: #3B4455;\n",
              "      fill: #D2E3FC;\n",
              "    }\n",
              "\n",
              "    [theme=dark] .colab-df-convert:hover {\n",
              "      background-color: #434B5C;\n",
              "      box-shadow: 0px 1px 3px 1px rgba(0, 0, 0, 0.15);\n",
              "      filter: drop-shadow(0px 1px 2px rgba(0, 0, 0, 0.3));\n",
              "      fill: #FFFFFF;\n",
              "    }\n",
              "  </style>\n",
              "\n",
              "    <script>\n",
              "      const buttonEl =\n",
              "        document.querySelector('#df-237635e2-54b5-4cea-aa89-c8a0554b29f9 button.colab-df-convert');\n",
              "      buttonEl.style.display =\n",
              "        google.colab.kernel.accessAllowed ? 'block' : 'none';\n",
              "\n",
              "      async function convertToInteractive(key) {\n",
              "        const element = document.querySelector('#df-237635e2-54b5-4cea-aa89-c8a0554b29f9');\n",
              "        const dataTable =\n",
              "          await google.colab.kernel.invokeFunction('convertToInteractive',\n",
              "                                                    [key], {});\n",
              "        if (!dataTable) return;\n",
              "\n",
              "        const docLinkHtml = 'Like what you see? Visit the ' +\n",
              "          '<a target=\"_blank\" href=https://colab.research.google.com/notebooks/data_table.ipynb>data table notebook</a>'\n",
              "          + ' to learn more about interactive tables.';\n",
              "        element.innerHTML = '';\n",
              "        dataTable['output_type'] = 'display_data';\n",
              "        await google.colab.output.renderOutput(dataTable, element);\n",
              "        const docLink = document.createElement('div');\n",
              "        docLink.innerHTML = docLinkHtml;\n",
              "        element.appendChild(docLink);\n",
              "      }\n",
              "    </script>\n",
              "  </div>\n",
              "\n",
              "\n",
              "<div id=\"df-dd0771bd-3d2d-455d-a345-e0597a06d884\">\n",
              "  <button class=\"colab-df-quickchart\" onclick=\"quickchart('df-dd0771bd-3d2d-455d-a345-e0597a06d884')\"\n",
              "            title=\"Suggest charts\"\n",
              "            style=\"display:none;\">\n",
              "\n",
              "<svg xmlns=\"http://www.w3.org/2000/svg\" height=\"24px\"viewBox=\"0 0 24 24\"\n",
              "     width=\"24px\">\n",
              "    <g>\n",
              "        <path d=\"M19 3H5c-1.1 0-2 .9-2 2v14c0 1.1.9 2 2 2h14c1.1 0 2-.9 2-2V5c0-1.1-.9-2-2-2zM9 17H7v-7h2v7zm4 0h-2V7h2v10zm4 0h-2v-4h2v4z\"/>\n",
              "    </g>\n",
              "</svg>\n",
              "  </button>\n",
              "\n",
              "<style>\n",
              "  .colab-df-quickchart {\n",
              "      --bg-color: #E8F0FE;\n",
              "      --fill-color: #1967D2;\n",
              "      --hover-bg-color: #E2EBFA;\n",
              "      --hover-fill-color: #174EA6;\n",
              "      --disabled-fill-color: #AAA;\n",
              "      --disabled-bg-color: #DDD;\n",
              "  }\n",
              "\n",
              "  [theme=dark] .colab-df-quickchart {\n",
              "      --bg-color: #3B4455;\n",
              "      --fill-color: #D2E3FC;\n",
              "      --hover-bg-color: #434B5C;\n",
              "      --hover-fill-color: #FFFFFF;\n",
              "      --disabled-bg-color: #3B4455;\n",
              "      --disabled-fill-color: #666;\n",
              "  }\n",
              "\n",
              "  .colab-df-quickchart {\n",
              "    background-color: var(--bg-color);\n",
              "    border: none;\n",
              "    border-radius: 50%;\n",
              "    cursor: pointer;\n",
              "    display: none;\n",
              "    fill: var(--fill-color);\n",
              "    height: 32px;\n",
              "    padding: 0;\n",
              "    width: 32px;\n",
              "  }\n",
              "\n",
              "  .colab-df-quickchart:hover {\n",
              "    background-color: var(--hover-bg-color);\n",
              "    box-shadow: 0 1px 2px rgba(60, 64, 67, 0.3), 0 1px 3px 1px rgba(60, 64, 67, 0.15);\n",
              "    fill: var(--button-hover-fill-color);\n",
              "  }\n",
              "\n",
              "  .colab-df-quickchart-complete:disabled,\n",
              "  .colab-df-quickchart-complete:disabled:hover {\n",
              "    background-color: var(--disabled-bg-color);\n",
              "    fill: var(--disabled-fill-color);\n",
              "    box-shadow: none;\n",
              "  }\n",
              "\n",
              "  .colab-df-spinner {\n",
              "    border: 2px solid var(--fill-color);\n",
              "    border-color: transparent;\n",
              "    border-bottom-color: var(--fill-color);\n",
              "    animation:\n",
              "      spin 1s steps(1) infinite;\n",
              "  }\n",
              "\n",
              "  @keyframes spin {\n",
              "    0% {\n",
              "      border-color: transparent;\n",
              "      border-bottom-color: var(--fill-color);\n",
              "      border-left-color: var(--fill-color);\n",
              "    }\n",
              "    20% {\n",
              "      border-color: transparent;\n",
              "      border-left-color: var(--fill-color);\n",
              "      border-top-color: var(--fill-color);\n",
              "    }\n",
              "    30% {\n",
              "      border-color: transparent;\n",
              "      border-left-color: var(--fill-color);\n",
              "      border-top-color: var(--fill-color);\n",
              "      border-right-color: var(--fill-color);\n",
              "    }\n",
              "    40% {\n",
              "      border-color: transparent;\n",
              "      border-right-color: var(--fill-color);\n",
              "      border-top-color: var(--fill-color);\n",
              "    }\n",
              "    60% {\n",
              "      border-color: transparent;\n",
              "      border-right-color: var(--fill-color);\n",
              "    }\n",
              "    80% {\n",
              "      border-color: transparent;\n",
              "      border-right-color: var(--fill-color);\n",
              "      border-bottom-color: var(--fill-color);\n",
              "    }\n",
              "    90% {\n",
              "      border-color: transparent;\n",
              "      border-bottom-color: var(--fill-color);\n",
              "    }\n",
              "  }\n",
              "</style>\n",
              "\n",
              "  <script>\n",
              "    async function quickchart(key) {\n",
              "      const quickchartButtonEl =\n",
              "        document.querySelector('#' + key + ' button');\n",
              "      quickchartButtonEl.disabled = true;  // To prevent multiple clicks.\n",
              "      quickchartButtonEl.classList.add('colab-df-spinner');\n",
              "      try {\n",
              "        const charts = await google.colab.kernel.invokeFunction(\n",
              "            'suggestCharts', [key], {});\n",
              "      } catch (error) {\n",
              "        console.error('Error during call to suggestCharts:', error);\n",
              "      }\n",
              "      quickchartButtonEl.classList.remove('colab-df-spinner');\n",
              "      quickchartButtonEl.classList.add('colab-df-quickchart-complete');\n",
              "    }\n",
              "    (() => {\n",
              "      let quickchartButtonEl =\n",
              "        document.querySelector('#df-dd0771bd-3d2d-455d-a345-e0597a06d884 button');\n",
              "      quickchartButtonEl.style.display =\n",
              "        google.colab.kernel.accessAllowed ? 'block' : 'none';\n",
              "    })();\n",
              "  </script>\n",
              "</div>\n",
              "\n",
              "    </div>\n",
              "  </div>\n"
            ],
            "application/vnd.google.colaboratory.intrinsic+json": {
              "type": "dataframe",
              "summary": "{\n  \"name\": \"df\",\n  \"rows\": 100,\n  \"fields\": [\n    {\n      \"column\": \"First Name\",\n      \"properties\": {\n        \"dtype\": \"string\",\n        \"num_unique_values\": 91,\n        \"samples\": [\n          \"Arthur\",\n          \"Todd\",\n          \"Melvin\"\n        ],\n        \"semantic_type\": \"\",\n        \"description\": \"\"\n      }\n    },\n    {\n      \"column\": \"Ancenstral Steeze Name\",\n      \"properties\": {\n        \"dtype\": \"string\",\n        \"num_unique_values\": 97,\n        \"samples\": [\n          \"Fischer\",\n          \"Delgado\",\n          \"Hobbs\"\n        ],\n        \"semantic_type\": \"\",\n        \"description\": \"\"\n      }\n    },\n    {\n      \"column\": \"Age\",\n      \"properties\": {\n        \"dtype\": \"object\",\n        \"num_unique_values\": 91,\n        \"samples\": [\n          \"10/20/2018\",\n          \"06/26/2020\",\n          \"09/18/2019\"\n        ],\n        \"semantic_type\": \"\",\n        \"description\": \"\"\n      }\n    },\n    {\n      \"column\": \"SALARY\",\n      \"properties\": {\n        \"dtype\": \"string\",\n        \"num_unique_values\": 100,\n        \"samples\": [\n          \"$30.38\",\n          \"$9.06\",\n          \"$43.03\"\n        ],\n        \"semantic_type\": \"\",\n        \"description\": \"\"\n      }\n    },\n    {\n      \"column\": \"STREET Address1\",\n      \"properties\": {\n        \"dtype\": \"string\",\n        \"num_unique_values\": 100,\n        \"samples\": [\n          \"284-2591 Non Avenue\",\n          \"P.O. Box 611, 6063 Molestie Ave\",\n          \"428-8034 Orci St.\"\n        ],\n        \"semantic_type\": \"\",\n        \"description\": \"\"\n      }\n    },\n    {\n      \"column\": \"STREET Address2\",\n      \"properties\": {\n        \"dtype\": \"string\",\n        \"num_unique_values\": 100,\n        \"samples\": [\n          \"5189 Nulla Street\",\n          \"Ap #331-4458 Vulputate St.\",\n          \"8708 Donec Rd.\"\n        ],\n        \"semantic_type\": \"\",\n        \"description\": \"\"\n      }\n    },\n    {\n      \"column\": \"STREET Address3\",\n      \"properties\": {\n        \"dtype\": \"string\",\n        \"num_unique_values\": 100,\n        \"samples\": [\n          \"4878 Tempus Road\",\n          \"P.O. Box 512, 5869 Ligula. Rd.\",\n          \"415 Neque Rd.\"\n        ],\n        \"semantic_type\": \"\",\n        \"description\": \"\"\n      }\n    },\n    {\n      \"column\": \"email\",\n      \"properties\": {\n        \"dtype\": \"string\",\n        \"num_unique_values\": 100,\n        \"samples\": [\n          \"sollicitudin.orci@liberodui.net\",\n          \"facilisis@turpisnon.org\",\n          \"blandit.Nam@Sed.net\"\n        ],\n        \"semantic_type\": \"\",\n        \"description\": \"\"\n      }\n    }\n  ]\n}"
            }
          },
          "metadata": {},
          "execution_count": 35
        }
      ],
      "source": [
        "### Renaming Column Name\n",
        "df.rename(columns={'Age':'Date of Birth'})\n",
        "df.rename(columns={'Last name':'Ancenstral Steeze Name'})"
      ]
    },
    {
      "cell_type": "code",
      "execution_count": null,
      "metadata": {
        "id": "i_E9c-4cLWXf"
      },
      "outputs": [],
      "source": [
        "### Renaming Column Name /Inplace\n",
        "df.rename(columns={'Age':'Date of Birth'},inplace=True)\n",
        "df.rename(columns={'STREET Address1':'THY ENDS'},inplace=True)"
      ]
    },
    {
      "cell_type": "code",
      "execution_count": null,
      "metadata": {
        "colab": {
          "base_uri": "https://localhost:8080/"
        },
        "id": "xsFdEhJ3LWXf",
        "outputId": "ed48103d-d83e-45c1-8c44-89d853e9777a"
      },
      "outputs": [
        {
          "output_type": "execute_result",
          "data": {
            "text/plain": [
              "Index(['First Name', 'Last name', 'Date of Birth', 'SALARY', 'THY ENDS',\n",
              "       'STREET Address2', 'STREET Address3', 'email'],\n",
              "      dtype='object')"
            ]
          },
          "metadata": {},
          "execution_count": 39
        }
      ],
      "source": [
        "df.columns\n",
        "df.columns"
      ]
    },
    {
      "cell_type": "code",
      "execution_count": null,
      "metadata": {
        "colab": {
          "base_uri": "https://localhost:8080/"
        },
        "id": "ii9IXPRQLWXg",
        "outputId": "25d30ee0-f8ed-43d7-86dd-2c32503d5b44"
      },
      "outputs": [
        {
          "output_type": "execute_result",
          "data": {
            "text/plain": [
              "8"
            ]
          },
          "metadata": {},
          "execution_count": 40
        }
      ],
      "source": [
        "len(df.columns.values)\n",
        "len(df.columns.values)\n"
      ]
    },
    {
      "cell_type": "code",
      "execution_count": null,
      "metadata": {
        "id": "FQGwRbi1LWXg"
      },
      "outputs": [],
      "source": [
        "# Renaming Column Names using select values\n",
        "df.columns.values[7] = 'Email Address'\n",
        "df.columns.values[3] = 'CASH'"
      ]
    },
    {
      "cell_type": "code",
      "execution_count": null,
      "metadata": {
        "colab": {
          "base_uri": "https://localhost:8080/"
        },
        "id": "cMvBee4ULWXh",
        "outputId": "71e60fcc-53eb-4d5e-9657-ee44b5e2fc06"
      },
      "outputs": [
        {
          "output_type": "execute_result",
          "data": {
            "text/plain": [
              "Index(['First Name', 'Last name', 'Date of Birth', 'CASH', 'THY ENDS',\n",
              "       'STREET Address2', 'STREET Address3', 'Email Address'],\n",
              "      dtype='object')"
            ]
          },
          "metadata": {},
          "execution_count": 44
        }
      ],
      "source": [
        "df.columns"
      ]
    },
    {
      "cell_type": "code",
      "execution_count": null,
      "metadata": {
        "colab": {
          "base_uri": "https://localhost:8080/"
        },
        "id": "iHMxh_ocLWXh",
        "outputId": "5a9a49fc-3589-4959-f939-097ce7cd3f2b"
      },
      "outputs": [
        {
          "output_type": "execute_result",
          "data": {
            "text/plain": [
              "Index(['First Name', 'Last name', 'Date of Birth', 'CASH', 'THY ENDS',\n",
              "       'STREET Address3', 'Email Address'],\n",
              "      dtype='object')"
            ]
          },
          "metadata": {},
          "execution_count": 46
        }
      ],
      "source": [
        "### Selecting All Columns Except One\n",
        "df.columns[df.columns != 'CASH']\n",
        "df.columns[df.columns != 'STREET Address2']"
      ]
    },
    {
      "cell_type": "code",
      "execution_count": null,
      "metadata": {
        "colab": {
          "base_uri": "https://localhost:8080/"
        },
        "id": "oy2aMeBvLWXh",
        "outputId": "8550662d-678f-4851-e485-c85b6760502c"
      },
      "outputs": [
        {
          "output_type": "execute_result",
          "data": {
            "text/plain": [
              "Index(['First Name', 'Last name', 'Date of Birth', 'CASH', 'THY ENDS',\n",
              "       'STREET Address2', 'STREET Address3', 'Email Address'],\n",
              "      dtype='object')"
            ]
          },
          "metadata": {},
          "execution_count": 47
        }
      ],
      "source": [
        "### Selecting All Columns Except One\n",
        "df.loc[:, df.columns != 'SALARY'].columns\n",
        "df.loc[:, df.columns != 'email'].columns"
      ]
    },
    {
      "cell_type": "code",
      "execution_count": null,
      "metadata": {
        "colab": {
          "base_uri": "https://localhost:8080/"
        },
        "id": "C9jTVkVjLWXi",
        "outputId": "6e6e6021-3c61-446f-b484-9f5ea17269f0"
      },
      "outputs": [
        {
          "output_type": "execute_result",
          "data": {
            "text/plain": [
              "Index(['CASH', 'Date of Birth', 'First Name', 'Last name', 'STREET Address2',\n",
              "       'STREET Address3', 'THY ENDS'],\n",
              "      dtype='object')"
            ]
          },
          "metadata": {},
          "execution_count": 49
        }
      ],
      "source": [
        "# Select Column Names Except One Using Difference\n",
        "df.columns.difference(['Email Address'])"
      ]
    },
    {
      "cell_type": "code",
      "execution_count": null,
      "metadata": {
        "id": "kBQtjpWcLWXi",
        "outputId": "619d8129-8879-4698-c010-be0983bd5be4"
      },
      "outputs": [
        {
          "data": {
            "text/plain": [
              "Index(['First Name', 'Last name', 'Date of Birth', 'STREET Address1',\n",
              "       'STREET Address2', 'STREET Address3', 'email'],\n",
              "      dtype='object')"
            ]
          },
          "execution_count": 27,
          "metadata": {},
          "output_type": "execute_result"
        }
      ],
      "source": [
        "# Select Column Names Except One Using Negation of isin\n",
        "df.loc[:,~df.columns.isin(['SALARY'])].columns"
      ]
    },
    {
      "cell_type": "code",
      "execution_count": null,
      "metadata": {
        "colab": {
          "base_uri": "https://localhost:8080/"
        },
        "id": "qjtAMs_hLWXi",
        "outputId": "79225cbb-6892-4ade-d4a6-c9568a554779"
      },
      "outputs": [
        {
          "output_type": "execute_result",
          "data": {
            "text/plain": [
              "Index([], dtype='object')"
            ]
          },
          "metadata": {},
          "execution_count": 55
        }
      ],
      "source": [
        "### Select Column Names that Begins with a Word or Character\n",
        "df.filter(like='Of').columns"
      ]
    },
    {
      "cell_type": "code",
      "execution_count": null,
      "metadata": {
        "colab": {
          "base_uri": "https://localhost:8080/"
        },
        "id": "b_ecLMbkLWXj",
        "outputId": "0fb2d119-6ce3-4ff7-988a-fe68e4a4b2bd"
      },
      "outputs": [
        {
          "output_type": "execute_result",
          "data": {
            "text/plain": [
              "Index(['Date of Birth'], dtype='object')"
            ]
          },
          "metadata": {},
          "execution_count": 57
        }
      ],
      "source": [
        "### Select Column Names that Begins with a Word or Character\n",
        "df.loc[:,df.columns.str.startswith('STREET')].columns\n",
        "df.loc[:,df.columns.str.startswith('Dat')].columns"
      ]
    },
    {
      "cell_type": "code",
      "execution_count": null,
      "metadata": {
        "colab": {
          "base_uri": "https://localhost:8080/"
        },
        "id": "h_F34CeaLWXj",
        "outputId": "fadfb318-54e7-4aac-b555-6401405ff160"
      },
      "outputs": [
        {
          "output_type": "execute_result",
          "data": {
            "text/plain": [
              "Index(['Email Address'], dtype='object')"
            ]
          },
          "metadata": {},
          "execution_count": 63
        }
      ],
      "source": [
        "### Select Column Names that ENDS with a Word or Character\n",
        "df.loc[:,df.columns.str.endswith('ame')].columns\n",
        "df.loc[:,df.columns.str.endswith('ess')].columns"
      ]
    },
    {
      "cell_type": "code",
      "execution_count": null,
      "metadata": {
        "id": "16fmLOlWLWXj",
        "outputId": "fcce6f6b-914d-4323-aae7-2dd846377698"
      },
      "outputs": [
        {
          "data": {
            "text/plain": [
              "Index(['First Name', 'Last name'], dtype='object')"
            ]
          },
          "execution_count": 31,
          "metadata": {},
          "output_type": "execute_result"
        }
      ],
      "source": [
        "### Select Column Names that ENDS with a Word or Character Using Filter and Regex name$\n",
        "df.filter(regex='ame$',axis=1).columns"
      ]
    },
    {
      "cell_type": "code",
      "execution_count": null,
      "metadata": {
        "colab": {
          "base_uri": "https://localhost:8080/"
        },
        "id": "WpzmlpSTLWXk",
        "outputId": "be37889c-d39a-4257-fbd4-8e994d7b4948"
      },
      "outputs": [
        {
          "output_type": "execute_result",
          "data": {
            "text/plain": [
              "array(['First Name', 'Last name', 'Date of Birth', 'CASH', 'THY ENDS',\n",
              "       'STREET Address2', 'STREET Address3'], dtype=object)"
            ]
          },
          "metadata": {},
          "execution_count": 66
        }
      ],
      "source": [
        "### Select A Group of Column Names\n",
        "df.columns.values[0:4]\n",
        "df.columns.values[0:7]"
      ]
    },
    {
      "cell_type": "code",
      "execution_count": null,
      "metadata": {
        "colab": {
          "base_uri": "https://localhost:8080/"
        },
        "id": "OE3-8sCrLWXk",
        "outputId": "7a94267d-3e34-4e1b-bcac-9a0e9e33adab"
      },
      "outputs": [
        {
          "output_type": "execute_result",
          "data": {
            "text/plain": [
              "Index(['First Name', 'Last name', 'Date of Birth', 'CASH'], dtype='object')"
            ]
          },
          "metadata": {},
          "execution_count": 67
        }
      ],
      "source": [
        "### Select A Group of Column Names\n",
        "df.columns[0:4]\n",
        "df.columns[0:4]"
      ]
    },
    {
      "cell_type": "code",
      "execution_count": null,
      "metadata": {
        "id": "I_l9K7wWLWXk"
      },
      "outputs": [],
      "source": [
        "### Thanks For Watching\n",
        "## Jesus Saves@JCharisTech\n",
        "## Jesse E. Agbe(JCharis)\n",
        "## J-Secur1ty"
      ]
    },
    {
      "cell_type": "code",
      "execution_count": null,
      "metadata": {
        "id": "vkBtUv5YLWXk"
      },
      "outputs": [],
      "source": []
    }
  ],
  "metadata": {
    "kernelspec": {
      "display_name": "Python 3",
      "language": "python",
      "name": "python3"
    },
    "language_info": {
      "codemirror_mode": {
        "name": "ipython",
        "version": 3
      },
      "file_extension": ".py",
      "mimetype": "text/x-python",
      "name": "python",
      "nbconvert_exporter": "python",
      "pygments_lexer": "ipython3",
      "version": "3.6.8"
    },
    "colab": {
      "provenance": [],
      "include_colab_link": true
    }
  },
  "nbformat": 4,
  "nbformat_minor": 0
}